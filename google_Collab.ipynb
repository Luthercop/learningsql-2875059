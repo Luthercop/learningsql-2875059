{
  "nbformat": 4,
  "nbformat_minor": 0,
  "metadata": {
    "colab": {
      "provenance": [],
      "authorship_tag": "ABX9TyOg5shvhg49wa63wLbyJxgh",
      "include_colab_link": true
    },
    "kernelspec": {
      "name": "python3",
      "display_name": "Python 3"
    },
    "language_info": {
      "name": "python"
    }
  },
  "cells": [
    {
      "cell_type": "markdown",
      "metadata": {
        "id": "view-in-github",
        "colab_type": "text"
      },
      "source": [
        "<a href=\"https://colab.research.google.com/github/Luthercop/learningsql-2875059/blob/main/google_Collab.ipynb\" target=\"_parent\"><img src=\"https://colab.research.google.com/assets/colab-badge.svg\" alt=\"Open In Colab\"/></a>"
      ]
    },
    {
      "cell_type": "code",
      "execution_count": null,
      "metadata": {
        "colab": {
          "base_uri": "https://localhost:8080/"
        },
        "id": "Yuz70S-Jt_B_",
        "outputId": "6668cb2a-e3dc-4df4-904d-d8924c184b88"
      },
      "outputs": [
        {
          "output_type": "stream",
          "name": "stdout",
          "text": [
            "Hello Data Engineering\n"
          ]
        }
      ],
      "source": [
        "print(\"Hello Data Engineering\")"
      ]
    },
    {
      "cell_type": "code",
      "source": [
        "var=80\n",
        "var2=100\n",
        "\n",
        "check=var==var2\n",
        "\n",
        "check =var!=var2\n",
        "\n",
        "check\n",
        "\n"
      ],
      "metadata": {
        "id": "eCPAdgLTyt6s",
        "outputId": "571f510f-e53d-4e53-a302-b60570e13fdf",
        "colab": {
          "base_uri": "https://localhost:8080/"
        }
      },
      "execution_count": 4,
      "outputs": [
        {
          "output_type": "execute_result",
          "data": {
            "text/plain": [
              "True"
            ]
          },
          "metadata": {},
          "execution_count": 4
        }
      ]
    },
    {
      "cell_type": "code",
      "source": [
        "num =7\n",
        "\n",
        "if num >10:\n",
        "  print (\"number is greater than 10 \")\n",
        "else:\n",
        "  print (\"number is lower than 10 \")\n"
      ],
      "metadata": {
        "id": "BQuQPMjh0O4s",
        "outputId": "132fd189-a1bb-4937-b7a0-9833be285a7e",
        "colab": {
          "base_uri": "https://localhost:8080/"
        }
      },
      "execution_count": 6,
      "outputs": [
        {
          "output_type": "stream",
          "name": "stdout",
          "text": [
            "number is lower than 10 \n"
          ]
        }
      ]
    }
  ]
}